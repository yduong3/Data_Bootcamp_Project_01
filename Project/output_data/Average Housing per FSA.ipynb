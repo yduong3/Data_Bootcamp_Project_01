{
 "cells": [
  {
   "cell_type": "code",
   "execution_count": 46,
   "metadata": {},
   "outputs": [],
   "source": [
    "# Dependencies and Setup\n",
    "%matplotlib inline\n",
    "import pandas as pd\n",
    "import numpy as np\n",
    "import matplotlib.pyplot as plt\n"
   ]
  },
  {
   "cell_type": "code",
   "execution_count": 47,
   "metadata": {},
   "outputs": [
    {
     "data": {
      "text/html": [
       "<div>\n",
       "<style scoped>\n",
       "    .dataframe tbody tr th:only-of-type {\n",
       "        vertical-align: middle;\n",
       "    }\n",
       "\n",
       "    .dataframe tbody tr th {\n",
       "        vertical-align: top;\n",
       "    }\n",
       "\n",
       "    .dataframe thead th {\n",
       "        text-align: right;\n",
       "    }\n",
       "</style>\n",
       "<table border=\"1\" class=\"dataframe\">\n",
       "  <thead>\n",
       "    <tr style=\"text-align: right;\">\n",
       "      <th></th>\n",
       "      <th>Index</th>\n",
       "      <th>AreaName</th>\n",
       "      <th>Price ($)</th>\n",
       "      <th>lat</th>\n",
       "      <th>lng</th>\n",
       "      <th>Address</th>\n",
       "      <th>City</th>\n",
       "      <th>Postal Code</th>\n",
       "      <th>FSA</th>\n",
       "    </tr>\n",
       "  </thead>\n",
       "  <tbody>\n",
       "    <tr>\n",
       "      <th>0</th>\n",
       "      <td>1</td>\n",
       "      <td>Downtown</td>\n",
       "      <td>100000</td>\n",
       "      <td>43.669567</td>\n",
       "      <td>-79.388596</td>\n",
       "      <td>#13 - 55 Bloor St</td>\n",
       "      <td>Toronto</td>\n",
       "      <td>M4W 1A6</td>\n",
       "      <td>M4W</td>\n",
       "    </tr>\n",
       "    <tr>\n",
       "      <th>1</th>\n",
       "      <td>2</td>\n",
       "      <td>Emery</td>\n",
       "      <td>102000</td>\n",
       "      <td>43.749187</td>\n",
       "      <td>-79.542702</td>\n",
       "      <td>#704 - 3390 Weston Rd</td>\n",
       "      <td>Toronto</td>\n",
       "      <td>M9M 2X3</td>\n",
       "      <td>M9M</td>\n",
       "    </tr>\n",
       "    <tr>\n",
       "      <th>2</th>\n",
       "      <td>3</td>\n",
       "      <td>Emery</td>\n",
       "      <td>104900</td>\n",
       "      <td>43.749187</td>\n",
       "      <td>-79.542702</td>\n",
       "      <td>#1104 - 3390 WESTON RD</td>\n",
       "      <td>Toronto</td>\n",
       "      <td>M9M 2X3</td>\n",
       "      <td>M9M</td>\n",
       "    </tr>\n",
       "    <tr>\n",
       "      <th>3</th>\n",
       "      <td>4</td>\n",
       "      <td>Mimico</td>\n",
       "      <td>105000</td>\n",
       "      <td>43.615341</td>\n",
       "      <td>-79.492996</td>\n",
       "      <td>170 THE QUEENS WAY</td>\n",
       "      <td>Toronto</td>\n",
       "      <td>M8V 2N9</td>\n",
       "      <td>M8V</td>\n",
       "    </tr>\n",
       "    <tr>\n",
       "      <th>4</th>\n",
       "      <td>5</td>\n",
       "      <td>Mimico</td>\n",
       "      <td>105000</td>\n",
       "      <td>43.615341</td>\n",
       "      <td>-79.492996</td>\n",
       "      <td>170 THE QUEENS WAY</td>\n",
       "      <td>Toronto</td>\n",
       "      <td>M8V 2N9</td>\n",
       "      <td>M8V</td>\n",
       "    </tr>\n",
       "  </tbody>\n",
       "</table>\n",
       "</div>"
      ],
      "text/plain": [
       "   Index  AreaName  Price ($)        lat        lng                 Address  \\\n",
       "0      1  Downtown     100000  43.669567 -79.388596       #13 - 55 Bloor St   \n",
       "1      2     Emery     102000  43.749187 -79.542702   #704 - 3390 Weston Rd   \n",
       "2      3     Emery     104900  43.749187 -79.542702  #1104 - 3390 WESTON RD   \n",
       "3      4    Mimico     105000  43.615341 -79.492996      170 THE QUEENS WAY   \n",
       "4      5    Mimico     105000  43.615341 -79.492996      170 THE QUEENS WAY   \n",
       "\n",
       "      City Postal Code  FSA  \n",
       "0  Toronto     M4W 1A6  M4W  \n",
       "1  Toronto     M9M 2X3  M9M  \n",
       "2  Toronto     M9M 2X3  M9M  \n",
       "3  Toronto     M8V 2N9  M8V  \n",
       "4  Toronto     M8V 2N9  M8V  "
      ]
     },
     "execution_count": 47,
     "metadata": {},
     "output_type": "execute_result"
    }
   ],
   "source": [
    "home_sales_df = pd.read_csv(\"toronto_api_postal_combined and filtered with price range 100K to 10M.csv\")\n",
    "home_sales_df.head()"
   ]
  },
  {
   "cell_type": "code",
   "execution_count": 48,
   "metadata": {},
   "outputs": [
    {
     "data": {
      "text/html": [
       "<div>\n",
       "<style scoped>\n",
       "    .dataframe tbody tr th:only-of-type {\n",
       "        vertical-align: middle;\n",
       "    }\n",
       "\n",
       "    .dataframe tbody tr th {\n",
       "        vertical-align: top;\n",
       "    }\n",
       "\n",
       "    .dataframe thead th {\n",
       "        text-align: right;\n",
       "    }\n",
       "</style>\n",
       "<table border=\"1\" class=\"dataframe\">\n",
       "  <thead>\n",
       "    <tr style=\"text-align: right;\">\n",
       "      <th></th>\n",
       "      <th>Price ($)</th>\n",
       "    </tr>\n",
       "    <tr>\n",
       "      <th>FSA</th>\n",
       "      <th></th>\n",
       "    </tr>\n",
       "  </thead>\n",
       "  <tbody>\n",
       "    <tr>\n",
       "      <th>M1B</th>\n",
       "      <td>516127.0</td>\n",
       "    </tr>\n",
       "    <tr>\n",
       "      <th>M1C</th>\n",
       "      <td>945254.0</td>\n",
       "    </tr>\n",
       "    <tr>\n",
       "      <th>M1E</th>\n",
       "      <td>619287.0</td>\n",
       "    </tr>\n",
       "    <tr>\n",
       "      <th>M1G</th>\n",
       "      <td>655781.0</td>\n",
       "    </tr>\n",
       "    <tr>\n",
       "      <th>M1H</th>\n",
       "      <td>497626.0</td>\n",
       "    </tr>\n",
       "  </tbody>\n",
       "</table>\n",
       "</div>"
      ],
      "text/plain": [
       "     Price ($)\n",
       "FSA           \n",
       "M1B   516127.0\n",
       "M1C   945254.0\n",
       "M1E   619287.0\n",
       "M1G   655781.0\n",
       "M1H   497626.0"
      ]
     },
     "execution_count": 48,
     "metadata": {},
     "output_type": "execute_result"
    }
   ],
   "source": [
    "home_sales_fsa=home_sales_df[[\"FSA\",\"Price ($)\"]]\n",
    "home_sales_fsa=home_sales_df.groupby(\"FSA\").mean().round()\n",
    "home_sales_fsa=home_sales_fsa.drop(columns=['Index','lat','lng'])\n",
    "home_sales_fsa=home_sales_fsa.drop(['L1A', 'L3T','L4C','L4J'])\n",
    "home_sales_fsa.head()"
   ]
  },
  {
   "cell_type": "code",
   "execution_count": 49,
   "metadata": {},
   "outputs": [
    {
     "data": {
      "text/html": [
       "<div>\n",
       "<style scoped>\n",
       "    .dataframe tbody tr th:only-of-type {\n",
       "        vertical-align: middle;\n",
       "    }\n",
       "\n",
       "    .dataframe tbody tr th {\n",
       "        vertical-align: top;\n",
       "    }\n",
       "\n",
       "    .dataframe thead th {\n",
       "        text-align: right;\n",
       "    }\n",
       "</style>\n",
       "<table border=\"1\" class=\"dataframe\">\n",
       "  <thead>\n",
       "    <tr style=\"text-align: right;\">\n",
       "      <th></th>\n",
       "      <th>FSA</th>\n",
       "      <th>Price ($)</th>\n",
       "    </tr>\n",
       "  </thead>\n",
       "  <tbody>\n",
       "    <tr>\n",
       "      <th>0</th>\n",
       "      <td>M1B</td>\n",
       "      <td>516127.0</td>\n",
       "    </tr>\n",
       "    <tr>\n",
       "      <th>1</th>\n",
       "      <td>M1C</td>\n",
       "      <td>945254.0</td>\n",
       "    </tr>\n",
       "    <tr>\n",
       "      <th>2</th>\n",
       "      <td>M1E</td>\n",
       "      <td>619287.0</td>\n",
       "    </tr>\n",
       "    <tr>\n",
       "      <th>3</th>\n",
       "      <td>M1G</td>\n",
       "      <td>655781.0</td>\n",
       "    </tr>\n",
       "    <tr>\n",
       "      <th>4</th>\n",
       "      <td>M1H</td>\n",
       "      <td>497626.0</td>\n",
       "    </tr>\n",
       "  </tbody>\n",
       "</table>\n",
       "</div>"
      ],
      "text/plain": [
       "   FSA  Price ($)\n",
       "0  M1B   516127.0\n",
       "1  M1C   945254.0\n",
       "2  M1E   619287.0\n",
       "3  M1G   655781.0\n",
       "4  M1H   497626.0"
      ]
     },
     "execution_count": 49,
     "metadata": {},
     "output_type": "execute_result"
    }
   ],
   "source": [
    "home_sales_fsa=home_sales_fsa.reset_index()\n",
    "home_sales_fsa.head()"
   ]
  },
  {
   "cell_type": "code",
   "execution_count": 56,
   "metadata": {},
   "outputs": [
    {
     "data": {
      "image/png": "[encoded data removed]",
      "text/plain": [
       "<Figure size 1440x720 with 1 Axes>"
      ]
     },
     "metadata": {
      "needs_background": "light"
     },
     "output_type": "display_data"
    }
   ],
   "source": [
    "home_sales_fsa.plot(x=\"FSA\",y=\"Price ($)\", kind=\"bar\",figsize=(20,10), align=\"center\") \n",
    "\n",
    "plt.title(\"Average Housing Prices Per FSA\")\n",
    "plt.xlabel(\"FSA\")\n",
    "plt.ylabel(\"Average Housing Price($)\")\n",
    "plt.tight_layout()"
   ]
  },
  {
   "cell_type": "code",
   "execution_count": 58,
   "metadata": {},
   "outputs": [
    {
     "data": {
      "text/plain": [
       "<Figure size 432x288 with 0 Axes>"
      ]
     },
     "metadata": {},
     "output_type": "display_data"
    }
   ],
   "source": [
    "#Save image in \"Graphs\"\n",
    "plt.savefig('Graphs/HPFSA.png')\n",
    "plt.show()"
   ]
  },
  {
   "cell_type": "code",
   "execution_count": null,
   "metadata": {},
   "outputs": [],
   "source": []
  }
 ],
 "metadata": {
  "kernelspec": {
   "display_name": "Python 3",
   "language": "python",
   "name": "python3"
  },
  "language_info": {
   "codemirror_mode": {
    "name": "ipython",
    "version": 3
   },
   "file_extension": ".py",
   "mimetype": "text/x-python",
   "name": "python",
   "nbconvert_exporter": "python",
   "pygments_lexer": "ipython3",
   "version": "3.6.8"
  }
 },
 "nbformat": 4,
 "nbformat_minor": 2
}

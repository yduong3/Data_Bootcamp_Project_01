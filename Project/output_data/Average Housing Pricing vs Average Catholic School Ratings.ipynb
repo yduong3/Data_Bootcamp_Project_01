{
 "cells": [
  {
   "cell_type": "code",
   "execution_count": 1,
   "metadata": {},
   "outputs": [],
   "source": [
    "# Dependencies and Setup\n",
    "import pandas as pd\n",
    "import numpy as np\n",
    "import matplotlib.pyplot as plt"
   ]
  },
  {
   "cell_type": "code",
   "execution_count": 6,
   "metadata": {},
   "outputs": [
    {
     "data": {
      "text/html": [
       "<div>\n",
       "<style scoped>\n",
       "    .dataframe tbody tr th:only-of-type {\n",
       "        vertical-align: middle;\n",
       "    }\n",
       "\n",
       "    .dataframe tbody tr th {\n",
       "        vertical-align: top;\n",
       "    }\n",
       "\n",
       "    .dataframe thead th {\n",
       "        text-align: right;\n",
       "    }\n",
       "</style>\n",
       "<table border=\"1\" class=\"dataframe\">\n",
       "  <thead>\n",
       "    <tr style=\"text-align: right;\">\n",
       "      <th></th>\n",
       "      <th>SCHOOL NAME</th>\n",
       "      <th>ADDRESS</th>\n",
       "      <th>CITY</th>\n",
       "      <th>POSTAL CODE</th>\n",
       "      <th>FSA</th>\n",
       "      <th>RANK (OUT OF 3046)</th>\n",
       "      <th>RATINGS</th>\n",
       "    </tr>\n",
       "  </thead>\n",
       "  <tbody>\n",
       "    <tr>\n",
       "      <th>0</th>\n",
       "      <td>St Barnabas</td>\n",
       "      <td>30 Washburn Way</td>\n",
       "      <td>Scarborough</td>\n",
       "      <td>M1B 1H3</td>\n",
       "      <td>M1B</td>\n",
       "      <td>1921</td>\n",
       "      <td>5.6</td>\n",
       "    </tr>\n",
       "    <tr>\n",
       "      <th>1</th>\n",
       "      <td>St Bede</td>\n",
       "      <td>521 Sewells Road</td>\n",
       "      <td>Scarborough</td>\n",
       "      <td>M1B 5H3</td>\n",
       "      <td>M1B</td>\n",
       "      <td>2100</td>\n",
       "      <td>5.3</td>\n",
       "    </tr>\n",
       "    <tr>\n",
       "      <th>2</th>\n",
       "      <td>St Columba</td>\n",
       "      <td>10 John Tabor Trail</td>\n",
       "      <td>Scarborough</td>\n",
       "      <td>M1B 1M9</td>\n",
       "      <td>M1B</td>\n",
       "      <td>2711</td>\n",
       "      <td>3.8</td>\n",
       "    </tr>\n",
       "    <tr>\n",
       "      <th>3</th>\n",
       "      <td>St Dominic Savio</td>\n",
       "      <td>50 Tideswell Blvd.</td>\n",
       "      <td>Scarborough</td>\n",
       "      <td>M1B 5X3</td>\n",
       "      <td>M1B</td>\n",
       "      <td>1470</td>\n",
       "      <td>6.2</td>\n",
       "    </tr>\n",
       "    <tr>\n",
       "      <th>4</th>\n",
       "      <td>St Florence</td>\n",
       "      <td>101 Murison Boulevard</td>\n",
       "      <td>Scarborough</td>\n",
       "      <td>M1B 2L6</td>\n",
       "      <td>M1B</td>\n",
       "      <td>1470</td>\n",
       "      <td>6.2</td>\n",
       "    </tr>\n",
       "  </tbody>\n",
       "</table>\n",
       "</div>"
      ],
      "text/plain": [
       "        SCHOOL NAME                ADDRESS         CITY POSTAL CODE  FSA  \\\n",
       "0       St Barnabas        30 Washburn Way  Scarborough     M1B 1H3  M1B   \n",
       "1           St Bede       521 Sewells Road  Scarborough     M1B 5H3  M1B   \n",
       "2        St Columba    10 John Tabor Trail  Scarborough     M1B 1M9  M1B   \n",
       "3  St Dominic Savio     50 Tideswell Blvd.  Scarborough     M1B 5X3  M1B   \n",
       "4       St Florence  101 Murison Boulevard  Scarborough     M1B 2L6  M1B   \n",
       "\n",
       "   RANK (OUT OF 3046)  RATINGS  \n",
       "0                1921      5.6  \n",
       "1                2100      5.3  \n",
       "2                2711      3.8  \n",
       "3                1470      6.2  \n",
       "4                1470      6.2  "
      ]
     },
     "execution_count": 6,
     "metadata": {},
     "output_type": "execute_result"
    }
   ],
   "source": [
    "# Import Toronto School Rating and Housing Pricing \n",
    "home_sales= pd.read_csv(\"toronto_api_postal_combined and filtered with price range 100K to 10M.csv\")\n",
    "schoolc_rating= pd.read_csv(\"toronto_catholic_schools.csv\")\n",
    "schoolc_rating.head()"
   ]
  },
  {
   "cell_type": "code",
   "execution_count": 7,
   "metadata": {},
   "outputs": [
    {
     "data": {
      "text/html": [
       "<div>\n",
       "<style scoped>\n",
       "    .dataframe tbody tr th:only-of-type {\n",
       "        vertical-align: middle;\n",
       "    }\n",
       "\n",
       "    .dataframe tbody tr th {\n",
       "        vertical-align: top;\n",
       "    }\n",
       "\n",
       "    .dataframe thead th {\n",
       "        text-align: right;\n",
       "    }\n",
       "</style>\n",
       "<table border=\"1\" class=\"dataframe\">\n",
       "  <thead>\n",
       "    <tr style=\"text-align: right;\">\n",
       "      <th></th>\n",
       "      <th>Price ($)</th>\n",
       "    </tr>\n",
       "    <tr>\n",
       "      <th>FSA</th>\n",
       "      <th></th>\n",
       "    </tr>\n",
       "  </thead>\n",
       "  <tbody>\n",
       "    <tr>\n",
       "      <th>M1B</th>\n",
       "      <td>516127.0</td>\n",
       "    </tr>\n",
       "    <tr>\n",
       "      <th>M1C</th>\n",
       "      <td>945254.0</td>\n",
       "    </tr>\n",
       "    <tr>\n",
       "      <th>M1E</th>\n",
       "      <td>619287.0</td>\n",
       "    </tr>\n",
       "    <tr>\n",
       "      <th>M1G</th>\n",
       "      <td>655781.0</td>\n",
       "    </tr>\n",
       "    <tr>\n",
       "      <th>M1H</th>\n",
       "      <td>497626.0</td>\n",
       "    </tr>\n",
       "  </tbody>\n",
       "</table>\n",
       "</div>"
      ],
      "text/plain": [
       "     Price ($)\n",
       "FSA           \n",
       "M1B   516127.0\n",
       "M1C   945254.0\n",
       "M1E   619287.0\n",
       "M1G   655781.0\n",
       "M1H   497626.0"
      ]
     },
     "execution_count": 7,
     "metadata": {},
     "output_type": "execute_result"
    }
   ],
   "source": [
    "# Clean Housing Pricing data frame so that pricing is average by FSA\n",
    "home_sales_fsa=home_sales[[\"FSA\",\"Price ($)\"]]\n",
    "home_sales_fsa=home_sales_fsa.groupby(\"FSA\").mean().round()\n",
    "home_sales_fsa=home_sales_fsa.drop(['L1A', 'L3T','L4C','L4J'])\n",
    "home_sales_fsa.head()"
   ]
  },
  {
   "cell_type": "code",
   "execution_count": 9,
   "metadata": {},
   "outputs": [
    {
     "data": {
      "text/html": [
       "<div>\n",
       "<style scoped>\n",
       "    .dataframe tbody tr th:only-of-type {\n",
       "        vertical-align: middle;\n",
       "    }\n",
       "\n",
       "    .dataframe tbody tr th {\n",
       "        vertical-align: top;\n",
       "    }\n",
       "\n",
       "    .dataframe thead th {\n",
       "        text-align: right;\n",
       "    }\n",
       "</style>\n",
       "<table border=\"1\" class=\"dataframe\">\n",
       "  <thead>\n",
       "    <tr style=\"text-align: right;\">\n",
       "      <th></th>\n",
       "      <th>RATINGS</th>\n",
       "    </tr>\n",
       "    <tr>\n",
       "      <th>FSA</th>\n",
       "      <th></th>\n",
       "    </tr>\n",
       "  </thead>\n",
       "  <tbody>\n",
       "    <tr>\n",
       "      <th>M1B</th>\n",
       "      <td>5.80</td>\n",
       "    </tr>\n",
       "    <tr>\n",
       "      <th>M1C</th>\n",
       "      <td>7.05</td>\n",
       "    </tr>\n",
       "    <tr>\n",
       "      <th>M1E</th>\n",
       "      <td>5.55</td>\n",
       "    </tr>\n",
       "    <tr>\n",
       "      <th>M1G</th>\n",
       "      <td>4.95</td>\n",
       "    </tr>\n",
       "    <tr>\n",
       "      <th>M1H</th>\n",
       "      <td>6.25</td>\n",
       "    </tr>\n",
       "  </tbody>\n",
       "</table>\n",
       "</div>"
      ],
      "text/plain": [
       "     RATINGS\n",
       "FSA         \n",
       "M1B     5.80\n",
       "M1C     7.05\n",
       "M1E     5.55\n",
       "M1G     4.95\n",
       "M1H     6.25"
      ]
     },
     "execution_count": 9,
     "metadata": {},
     "output_type": "execute_result"
    }
   ],
   "source": [
    "#Clean School Data to only have FSA & Ranking\n",
    "Schoolc_fsa=schoolc_rating[[\"FSA\",\"RATINGS\"]]\n",
    "Schoolc_fsa=Schoolc_fsa.groupby(\"FSA\").mean()\n",
    "Schoolc_fsa.head()"
   ]
  },
  {
   "cell_type": "code",
   "execution_count": 10,
   "metadata": {},
   "outputs": [
    {
     "data": {
      "text/html": [
       "<div>\n",
       "<style scoped>\n",
       "    .dataframe tbody tr th:only-of-type {\n",
       "        vertical-align: middle;\n",
       "    }\n",
       "\n",
       "    .dataframe tbody tr th {\n",
       "        vertical-align: top;\n",
       "    }\n",
       "\n",
       "    .dataframe thead th {\n",
       "        text-align: right;\n",
       "    }\n",
       "</style>\n",
       "<table border=\"1\" class=\"dataframe\">\n",
       "  <thead>\n",
       "    <tr style=\"text-align: right;\">\n",
       "      <th></th>\n",
       "      <th>Prices</th>\n",
       "      <th>RATINGS</th>\n",
       "    </tr>\n",
       "    <tr>\n",
       "      <th>FSA</th>\n",
       "      <th></th>\n",
       "      <th></th>\n",
       "    </tr>\n",
       "  </thead>\n",
       "  <tbody>\n",
       "    <tr>\n",
       "      <th>M1B</th>\n",
       "      <td>516127.0</td>\n",
       "      <td>5.80</td>\n",
       "    </tr>\n",
       "    <tr>\n",
       "      <th>M1C</th>\n",
       "      <td>945254.0</td>\n",
       "      <td>7.05</td>\n",
       "    </tr>\n",
       "    <tr>\n",
       "      <th>M1E</th>\n",
       "      <td>619287.0</td>\n",
       "      <td>5.55</td>\n",
       "    </tr>\n",
       "    <tr>\n",
       "      <th>M1G</th>\n",
       "      <td>655781.0</td>\n",
       "      <td>4.95</td>\n",
       "    </tr>\n",
       "    <tr>\n",
       "      <th>M1H</th>\n",
       "      <td>497626.0</td>\n",
       "      <td>6.25</td>\n",
       "    </tr>\n",
       "  </tbody>\n",
       "</table>\n",
       "</div>"
      ],
      "text/plain": [
       "       Prices  RATINGS\n",
       "FSA                   \n",
       "M1B  516127.0     5.80\n",
       "M1C  945254.0     7.05\n",
       "M1E  619287.0     5.55\n",
       "M1G  655781.0     4.95\n",
       "M1H  497626.0     6.25"
      ]
     },
     "execution_count": 10,
     "metadata": {},
     "output_type": "execute_result"
    }
   ],
   "source": [
    "# Combine Data Frames on FSA-\n",
    "combined_FSA_df = pd.merge(home_sales_fsa,Schoolc_fsa, on='FSA')\n",
    "combined_FSA_df.rename(columns={'Price ($)':'Prices'}, inplace=True)\n",
    "combined_FSA_df.head()"
   ]
  },
  {
   "cell_type": "code",
   "execution_count": 11,
   "metadata": {},
   "outputs": [],
   "source": [
    "#Create Data points for Scatterplot\n",
    "x_axis= combined_FSA_df['RATINGS'].tolist()\n",
    "x_axis= list(map(float, x_axis))\n",
    "\n",
    "y_axis= combined_FSA_df['Prices'].tolist()\n",
    "y_axis= list(map(float, y_axis))"
   ]
  },
  {
   "cell_type": "code",
   "execution_count": 19,
   "metadata": {},
   "outputs": [
    {
     "data": {
      "image/png": "[encoded data removed]",
      "text/plain": [
       "<Figure size 432x288 with 1 Axes>"
      ]
     },
     "metadata": {
      "needs_background": "light"
     },
     "output_type": "display_data"
    }
   ],
   "source": [
    "#Build Scatterplot graph\n",
    "plt.scatter(x_axis, y_axis, alpha=0.5,marker=\"o\", facecolors=\"blue\", edgecolors=\"black\")\n",
    "plt.plot(np.unique(x_axis), np.poly1d(np.polyfit(x_axis, y_axis, 1))(np.unique(x_axis)))\n",
    "plt.title(\"Average Housing Prices vs Average Catholic School Ratings\")\n",
    "plt.xlabel(\"Average Catholic School Ratings\")\n",
    "plt.ylabel(\"Average Housing Price($)\")\n",
    "plt.tight_layout()"
   ]
  },
  {
   "cell_type": "code",
   "execution_count": 17,
   "metadata": {},
   "outputs": [
    {
     "data": {
      "text/plain": [
       "<Figure size 432x288 with 0 Axes>"
      ]
     },
     "metadata": {},
     "output_type": "display_data"
    }
   ],
   "source": [
    "plt.savefig('Graphs/HPvsCS.png')"
   ]
  },
  {
   "cell_type": "code",
   "execution_count": null,
   "metadata": {},
   "outputs": [],
   "source": []
  }
 ],
 "metadata": {
  "kernelspec": {
   "display_name": "Python 3",
   "language": "python",
   "name": "python3"
  },
  "language_info": {
   "codemirror_mode": {
    "name": "ipython",
    "version": 3
   },
   "file_extension": ".py",
   "mimetype": "text/x-python",
   "name": "python",
   "nbconvert_exporter": "python",
   "pygments_lexer": "ipython3",
   "version": "3.6.8"
  }
 },
 "nbformat": 4,
 "nbformat_minor": 2
}

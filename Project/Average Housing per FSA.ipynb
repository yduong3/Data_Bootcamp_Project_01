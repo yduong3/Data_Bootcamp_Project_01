{
 "cells": [
  {
   "cell_type": "code",
   "execution_count": 1,
   "metadata": {},
   "outputs": [],
   "source": [
    "# Dependencies and Setup\n",
    "%matplotlib inline\n",
    "import pandas as pd\n",
    "import numpy as np\n",
    "import matplotlib.pyplot as plt\n"
   ]
  },
  {
   "cell_type": "code",
   "execution_count": 3,
   "metadata": {},
   "outputs": [
    {
     "data": {
      "text/html": [
       "<div>\n",
       "<style scoped>\n",
       "    .dataframe tbody tr th:only-of-type {\n",
       "        vertical-align: middle;\n",
       "    }\n",
       "\n",
       "    .dataframe tbody tr th {\n",
       "        vertical-align: top;\n",
       "    }\n",
       "\n",
       "    .dataframe thead th {\n",
       "        text-align: right;\n",
       "    }\n",
       "</style>\n",
       "<table border=\"1\" class=\"dataframe\">\n",
       "  <thead>\n",
       "    <tr style=\"text-align: right;\">\n",
       "      <th></th>\n",
       "      <th>Index</th>\n",
       "      <th>AreaName</th>\n",
       "      <th>Price ($)</th>\n",
       "      <th>lat</th>\n",
       "      <th>lng</th>\n",
       "      <th>Address</th>\n",
       "      <th>City</th>\n",
       "      <th>Postal Code</th>\n",
       "      <th>FSA</th>\n",
       "    </tr>\n",
       "  </thead>\n",
       "  <tbody>\n",
       "    <tr>\n",
       "      <th>0</th>\n",
       "      <td>19</td>\n",
       "      <td>Malvern</td>\n",
       "      <td>114900</td>\n",
       "      <td>43.803925</td>\n",
       "      <td>-79.216507</td>\n",
       "      <td>#105 - 8 Silverbell Grve</td>\n",
       "      <td>Toronto</td>\n",
       "      <td>M1B 2L7</td>\n",
       "      <td>M1B</td>\n",
       "    </tr>\n",
       "    <tr>\n",
       "      <th>1</th>\n",
       "      <td>46</td>\n",
       "      <td>Malvern</td>\n",
       "      <td>125000</td>\n",
       "      <td>43.805328</td>\n",
       "      <td>-79.220230</td>\n",
       "      <td>#310 - 99 BLACKWELL AVE</td>\n",
       "      <td>Toronto</td>\n",
       "      <td>M1B 3R5</td>\n",
       "      <td>M1B</td>\n",
       "    </tr>\n",
       "    <tr>\n",
       "      <th>2</th>\n",
       "      <td>47</td>\n",
       "      <td>Malvern</td>\n",
       "      <td>125000</td>\n",
       "      <td>43.805328</td>\n",
       "      <td>-79.220230</td>\n",
       "      <td>#101 - 99 BLACKWELL AVE</td>\n",
       "      <td>Toronto</td>\n",
       "      <td>M1B 3R5</td>\n",
       "      <td>M1B</td>\n",
       "    </tr>\n",
       "    <tr>\n",
       "      <th>3</th>\n",
       "      <td>74</td>\n",
       "      <td>Malvern</td>\n",
       "      <td>139900</td>\n",
       "      <td>43.805328</td>\n",
       "      <td>-79.220230</td>\n",
       "      <td>#405 - 99 BLACKWELL AVE</td>\n",
       "      <td>Toronto</td>\n",
       "      <td>M1B 3R5</td>\n",
       "      <td>M1B</td>\n",
       "    </tr>\n",
       "    <tr>\n",
       "      <th>4</th>\n",
       "      <td>79</td>\n",
       "      <td>Malvern</td>\n",
       "      <td>143000</td>\n",
       "      <td>43.803925</td>\n",
       "      <td>-79.216507</td>\n",
       "      <td>#504 - 8 SILVER BELL GRVE</td>\n",
       "      <td>Toronto</td>\n",
       "      <td>M1B 2L7</td>\n",
       "      <td>M1B</td>\n",
       "    </tr>\n",
       "  </tbody>\n",
       "</table>\n",
       "</div>"
      ],
      "text/plain": [
       "   Index AreaName  Price ($)        lat        lng                    Address  \\\n",
       "0     19  Malvern     114900  43.803925 -79.216507   #105 - 8 Silverbell Grve   \n",
       "1     46  Malvern     125000  43.805328 -79.220230    #310 - 99 BLACKWELL AVE   \n",
       "2     47  Malvern     125000  43.805328 -79.220230    #101 - 99 BLACKWELL AVE   \n",
       "3     74  Malvern     139900  43.805328 -79.220230    #405 - 99 BLACKWELL AVE   \n",
       "4     79  Malvern     143000  43.803925 -79.216507  #504 - 8 SILVER BELL GRVE   \n",
       "\n",
       "      City Postal Code  FSA  \n",
       "0  Toronto     M1B 2L7  M1B  \n",
       "1  Toronto     M1B 3R5  M1B  \n",
       "2  Toronto     M1B 3R5  M1B  \n",
       "3  Toronto     M1B 3R5  M1B  \n",
       "4  Toronto     M1B 2L7  M1B  "
      ]
     },
     "execution_count": 3,
     "metadata": {},
     "output_type": "execute_result"
    }
   ],
   "source": [
    "home_sales_df = pd.read_csv(\"output_data/toronto_api_postal_combined and filtered with price range 100K to 10M.csv\")\n",
    "home_sales_df.head()"
   ]
  },
  {
   "cell_type": "code",
   "execution_count": 7,
   "metadata": {
    "scrolled": true
   },
   "outputs": [
    {
     "data": {
      "text/html": [
       "<div>\n",
       "<style scoped>\n",
       "    .dataframe tbody tr th:only-of-type {\n",
       "        vertical-align: middle;\n",
       "    }\n",
       "\n",
       "    .dataframe tbody tr th {\n",
       "        vertical-align: top;\n",
       "    }\n",
       "\n",
       "    .dataframe thead th {\n",
       "        text-align: right;\n",
       "    }\n",
       "</style>\n",
       "<table border=\"1\" class=\"dataframe\">\n",
       "  <thead>\n",
       "    <tr style=\"text-align: right;\">\n",
       "      <th></th>\n",
       "      <th>Price ($)</th>\n",
       "    </tr>\n",
       "    <tr>\n",
       "      <th>FSA</th>\n",
       "      <th></th>\n",
       "    </tr>\n",
       "  </thead>\n",
       "  <tbody>\n",
       "    <tr>\n",
       "      <th>M1B</th>\n",
       "      <td>516127.0</td>\n",
       "    </tr>\n",
       "    <tr>\n",
       "      <th>M1C</th>\n",
       "      <td>945254.0</td>\n",
       "    </tr>\n",
       "    <tr>\n",
       "      <th>M1E</th>\n",
       "      <td>619287.0</td>\n",
       "    </tr>\n",
       "    <tr>\n",
       "      <th>M1G</th>\n",
       "      <td>655781.0</td>\n",
       "    </tr>\n",
       "    <tr>\n",
       "      <th>M1H</th>\n",
       "      <td>497626.0</td>\n",
       "    </tr>\n",
       "  </tbody>\n",
       "</table>\n",
       "</div>"
      ],
      "text/plain": [
       "     Price ($)\n",
       "FSA           \n",
       "M1B   516127.0\n",
       "M1C   945254.0\n",
       "M1E   619287.0\n",
       "M1G   655781.0\n",
       "M1H   497626.0"
      ]
     },
     "execution_count": 7,
     "metadata": {},
     "output_type": "execute_result"
    }
   ],
   "source": [
    "home_sales_fsa=home_sales_df[[\"FSA\",\"Price ($)\"]]\n",
    "home_sales_fsa=home_sales_df.groupby(\"FSA\").mean().round()\n",
    "home_sales_fsa=home_sales_fsa.drop(columns=['Index','lat','lng'])\n",
    "home_sales_fsa.head()"
   ]
  },
  {
   "cell_type": "code",
   "execution_count": 8,
   "metadata": {},
   "outputs": [
    {
     "data": {
      "text/html": [
       "<div>\n",
       "<style scoped>\n",
       "    .dataframe tbody tr th:only-of-type {\n",
       "        vertical-align: middle;\n",
       "    }\n",
       "\n",
       "    .dataframe tbody tr th {\n",
       "        vertical-align: top;\n",
       "    }\n",
       "\n",
       "    .dataframe thead th {\n",
       "        text-align: right;\n",
       "    }\n",
       "</style>\n",
       "<table border=\"1\" class=\"dataframe\">\n",
       "  <thead>\n",
       "    <tr style=\"text-align: right;\">\n",
       "      <th></th>\n",
       "      <th>FSA</th>\n",
       "      <th>Price ($)</th>\n",
       "    </tr>\n",
       "  </thead>\n",
       "  <tbody>\n",
       "    <tr>\n",
       "      <th>0</th>\n",
       "      <td>M1B</td>\n",
       "      <td>516127.0</td>\n",
       "    </tr>\n",
       "    <tr>\n",
       "      <th>1</th>\n",
       "      <td>M1C</td>\n",
       "      <td>945254.0</td>\n",
       "    </tr>\n",
       "    <tr>\n",
       "      <th>2</th>\n",
       "      <td>M1E</td>\n",
       "      <td>619287.0</td>\n",
       "    </tr>\n",
       "    <tr>\n",
       "      <th>3</th>\n",
       "      <td>M1G</td>\n",
       "      <td>655781.0</td>\n",
       "    </tr>\n",
       "    <tr>\n",
       "      <th>4</th>\n",
       "      <td>M1H</td>\n",
       "      <td>497626.0</td>\n",
       "    </tr>\n",
       "  </tbody>\n",
       "</table>\n",
       "</div>"
      ],
      "text/plain": [
       "   FSA  Price ($)\n",
       "0  M1B   516127.0\n",
       "1  M1C   945254.0\n",
       "2  M1E   619287.0\n",
       "3  M1G   655781.0\n",
       "4  M1H   497626.0"
      ]
     },
     "execution_count": 8,
     "metadata": {},
     "output_type": "execute_result"
    }
   ],
   "source": [
    "home_sales_fsa=home_sales_fsa.reset_index()\n",
    "home_sales_fsa.head()"
   ]
  },
  {
   "cell_type": "code",
   "execution_count": 26,
   "metadata": {},
   "outputs": [
    {
     "data": {
      "image/png": "[encoded data removed]",
      "text/plain": [
       "<Figure size 1440x720 with 1 Axes>"
      ]
     },
     "metadata": {
      "needs_background": "light"
     },
     "output_type": "display_data"
    }
   ],
   "source": [
    "home_sales_fsa.plot(x=\"FSA\",y=\"Price ($)\", kind=\"bar\",figsize=(20,10), align=\"center\") \n",
    "\n",
    "plt.title(\"Average Housing Prices Per FSA\")\n",
    "plt.xlabel(\"FSA\")\n",
    "plt.ylabel(\"Average Housing Price($)\")\n",
    "# plt.tight_layout()\n",
    "\n",
    "plt.savefig('output_data/Graphs/HPFSA.png')\n",
    "\n",
    "plt.show()"
   ]
  },
  {
   "cell_type": "code",
   "execution_count": null,
   "metadata": {},
   "outputs": [],
   "source": []
  }
 ],
 "metadata": {
  "kernelspec": {
   "display_name": "Python 3",
   "language": "python",
   "name": "python3"
  },
  "language_info": {
   "codemirror_mode": {
    "name": "ipython",
    "version": 3
   },
   "file_extension": ".py",
   "mimetype": "text/x-python",
   "name": "python",
   "nbconvert_exporter": "python",
   "pygments_lexer": "ipython3",
   "version": "3.7.1"
  }
 },
 "nbformat": 4,
 "nbformat_minor": 2
}

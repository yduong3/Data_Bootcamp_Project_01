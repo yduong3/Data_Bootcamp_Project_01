{
 "cells": [
  {
   "cell_type": "code",
   "execution_count": 1,
   "metadata": {},
   "outputs": [],
   "source": [
    "# Dependencies and Setup\n",
    "import pandas as pd\n",
    "import numpy as np\n",
    "import matplotlib.pyplot as plt"
   ]
  },
  {
   "cell_type": "code",
   "execution_count": 2,
   "metadata": {},
   "outputs": [
    {
     "data": {
      "text/html": [
       "<div>\n",
       "<style scoped>\n",
       "    .dataframe tbody tr th:only-of-type {\n",
       "        vertical-align: middle;\n",
       "    }\n",
       "\n",
       "    .dataframe tbody tr th {\n",
       "        vertical-align: top;\n",
       "    }\n",
       "\n",
       "    .dataframe thead th {\n",
       "        text-align: right;\n",
       "    }\n",
       "</style>\n",
       "<table border=\"1\" class=\"dataframe\">\n",
       "  <thead>\n",
       "    <tr style=\"text-align: right;\">\n",
       "      <th></th>\n",
       "      <th>SCHOOL NAME</th>\n",
       "      <th>ADDRESS</th>\n",
       "      <th>CITY</th>\n",
       "      <th>POSTAL CODE</th>\n",
       "      <th>FSA</th>\n",
       "      <th>RANKING (OUT OF 3046)</th>\n",
       "      <th>RATINGS</th>\n",
       "    </tr>\n",
       "  </thead>\n",
       "  <tbody>\n",
       "    <tr>\n",
       "      <th>0</th>\n",
       "      <td>Rolph Road</td>\n",
       "      <td>31 Rolph Rd</td>\n",
       "      <td>Toronto</td>\n",
       "      <td>M4G 3M5</td>\n",
       "      <td>M4G</td>\n",
       "      <td>284</td>\n",
       "      <td>8.0</td>\n",
       "    </tr>\n",
       "    <tr>\n",
       "      <th>1</th>\n",
       "      <td>Burrows Hall</td>\n",
       "      <td>151 Burrows Hall Boulevard</td>\n",
       "      <td>Agincourt</td>\n",
       "      <td>M1B 1M5</td>\n",
       "      <td>M1B</td>\n",
       "      <td>947</td>\n",
       "      <td>6.9</td>\n",
       "    </tr>\n",
       "    <tr>\n",
       "      <th>2</th>\n",
       "      <td>Chief Dan George</td>\n",
       "      <td>185 Generation Boulevard</td>\n",
       "      <td>Scarborough</td>\n",
       "      <td>M1B 2K5</td>\n",
       "      <td>M1B</td>\n",
       "      <td>2449</td>\n",
       "      <td>4.6</td>\n",
       "    </tr>\n",
       "    <tr>\n",
       "      <th>3</th>\n",
       "      <td>Lucy Maud Montgomery</td>\n",
       "      <td>95 Murison Boulevard</td>\n",
       "      <td>Scarborough</td>\n",
       "      <td>M1B 2L6</td>\n",
       "      <td>M1B</td>\n",
       "      <td>2529</td>\n",
       "      <td>4.4</td>\n",
       "    </tr>\n",
       "    <tr>\n",
       "      <th>4</th>\n",
       "      <td>Berner Trail</td>\n",
       "      <td>120 Berner Trail</td>\n",
       "      <td>Agincourt</td>\n",
       "      <td>M1B 1B3</td>\n",
       "      <td>M1B</td>\n",
       "      <td>1246</td>\n",
       "      <td>6.5</td>\n",
       "    </tr>\n",
       "  </tbody>\n",
       "</table>\n",
       "</div>"
      ],
      "text/plain": [
       "            SCHOOL NAME                     ADDRESS         CITY POSTAL CODE  \\\n",
       "0            Rolph Road                31 Rolph Rd       Toronto     M4G 3M5   \n",
       "1          Burrows Hall  151 Burrows Hall Boulevard    Agincourt     M1B 1M5   \n",
       "2      Chief Dan George    185 Generation Boulevard  Scarborough     M1B 2K5   \n",
       "3  Lucy Maud Montgomery        95 Murison Boulevard  Scarborough     M1B 2L6   \n",
       "4          Berner Trail            120 Berner Trail    Agincourt     M1B 1B3   \n",
       "\n",
       "   FSA  RANKING (OUT OF 3046)  RATINGS  \n",
       "0  M4G                    284      8.0  \n",
       "1  M1B                    947      6.9  \n",
       "2  M1B                   2449      4.6  \n",
       "3  M1B                   2529      4.4  \n",
       "4  M1B                   1246      6.5  "
      ]
     },
     "execution_count": 2,
     "metadata": {},
     "output_type": "execute_result"
    }
   ],
   "source": [
    "# Import Toronto School Rating and Housing Pricing \n",
    "home_sales= pd.read_csv(\"output_data/toronto_api_postal_combined and filtered with price range 100K to 10M.csv\")\n",
    "schoolt_rating= pd.read_csv(\"output_data/toronto_schools.csv\")\n",
    "schoolt_rating.head()"
   ]
  },
  {
   "cell_type": "code",
   "execution_count": 3,
   "metadata": {},
   "outputs": [
    {
     "data": {
      "text/html": [
       "<div>\n",
       "<style scoped>\n",
       "    .dataframe tbody tr th:only-of-type {\n",
       "        vertical-align: middle;\n",
       "    }\n",
       "\n",
       "    .dataframe tbody tr th {\n",
       "        vertical-align: top;\n",
       "    }\n",
       "\n",
       "    .dataframe thead th {\n",
       "        text-align: right;\n",
       "    }\n",
       "</style>\n",
       "<table border=\"1\" class=\"dataframe\">\n",
       "  <thead>\n",
       "    <tr style=\"text-align: right;\">\n",
       "      <th></th>\n",
       "      <th>Price ($)</th>\n",
       "    </tr>\n",
       "    <tr>\n",
       "      <th>FSA</th>\n",
       "      <th></th>\n",
       "    </tr>\n",
       "  </thead>\n",
       "  <tbody>\n",
       "    <tr>\n",
       "      <th>M1B</th>\n",
       "      <td>516127.0</td>\n",
       "    </tr>\n",
       "    <tr>\n",
       "      <th>M1C</th>\n",
       "      <td>945254.0</td>\n",
       "    </tr>\n",
       "    <tr>\n",
       "      <th>M1E</th>\n",
       "      <td>619287.0</td>\n",
       "    </tr>\n",
       "    <tr>\n",
       "      <th>M1G</th>\n",
       "      <td>655781.0</td>\n",
       "    </tr>\n",
       "    <tr>\n",
       "      <th>M1H</th>\n",
       "      <td>497626.0</td>\n",
       "    </tr>\n",
       "  </tbody>\n",
       "</table>\n",
       "</div>"
      ],
      "text/plain": [
       "     Price ($)\n",
       "FSA           \n",
       "M1B   516127.0\n",
       "M1C   945254.0\n",
       "M1E   619287.0\n",
       "M1G   655781.0\n",
       "M1H   497626.0"
      ]
     },
     "execution_count": 3,
     "metadata": {},
     "output_type": "execute_result"
    }
   ],
   "source": [
    "# Clean Housing Pricing data frame so that pricing is average by FSA\n",
    "home_sales_fsa=home_sales[[\"FSA\",\"Price ($)\"]]\n",
    "home_sales_fsa=home_sales_fsa.groupby(\"FSA\").mean().round()\n",
    "home_sales_fsa.head()"
   ]
  },
  {
   "cell_type": "code",
   "execution_count": 4,
   "metadata": {},
   "outputs": [
    {
     "data": {
      "text/html": [
       "<div>\n",
       "<style scoped>\n",
       "    .dataframe tbody tr th:only-of-type {\n",
       "        vertical-align: middle;\n",
       "    }\n",
       "\n",
       "    .dataframe tbody tr th {\n",
       "        vertical-align: top;\n",
       "    }\n",
       "\n",
       "    .dataframe thead th {\n",
       "        text-align: right;\n",
       "    }\n",
       "</style>\n",
       "<table border=\"1\" class=\"dataframe\">\n",
       "  <thead>\n",
       "    <tr style=\"text-align: right;\">\n",
       "      <th></th>\n",
       "      <th>RATINGS</th>\n",
       "    </tr>\n",
       "    <tr>\n",
       "      <th>FSA</th>\n",
       "      <th></th>\n",
       "    </tr>\n",
       "  </thead>\n",
       "  <tbody>\n",
       "    <tr>\n",
       "      <th>M1B</th>\n",
       "      <td>6.293333</td>\n",
       "    </tr>\n",
       "    <tr>\n",
       "      <th>M1C</th>\n",
       "      <td>7.371429</td>\n",
       "    </tr>\n",
       "    <tr>\n",
       "      <th>M1E</th>\n",
       "      <td>4.563636</td>\n",
       "    </tr>\n",
       "    <tr>\n",
       "      <th>M1G</th>\n",
       "      <td>6.057143</td>\n",
       "    </tr>\n",
       "    <tr>\n",
       "      <th>M1H</th>\n",
       "      <td>7.475000</td>\n",
       "    </tr>\n",
       "  </tbody>\n",
       "</table>\n",
       "</div>"
      ],
      "text/plain": [
       "      RATINGS\n",
       "FSA          \n",
       "M1B  6.293333\n",
       "M1C  7.371429\n",
       "M1E  4.563636\n",
       "M1G  6.057143\n",
       "M1H  7.475000"
      ]
     },
     "execution_count": 4,
     "metadata": {},
     "output_type": "execute_result"
    }
   ],
   "source": [
    "#Clean School Data to only have FSA & Ranking\n",
    "Schoolt_fsa=schoolt_rating[[\"FSA\",\"RATINGS\"]]\n",
    "Schoolt_fsa=Schoolt_fsa.groupby(\"FSA\").mean()\n",
    "Schoolt_fsa.head()"
   ]
  },
  {
   "cell_type": "code",
   "execution_count": 5,
   "metadata": {},
   "outputs": [
    {
     "data": {
      "text/html": [
       "<div>\n",
       "<style scoped>\n",
       "    .dataframe tbody tr th:only-of-type {\n",
       "        vertical-align: middle;\n",
       "    }\n",
       "\n",
       "    .dataframe tbody tr th {\n",
       "        vertical-align: top;\n",
       "    }\n",
       "\n",
       "    .dataframe thead th {\n",
       "        text-align: right;\n",
       "    }\n",
       "</style>\n",
       "<table border=\"1\" class=\"dataframe\">\n",
       "  <thead>\n",
       "    <tr style=\"text-align: right;\">\n",
       "      <th></th>\n",
       "      <th>Prices</th>\n",
       "      <th>RATINGS</th>\n",
       "    </tr>\n",
       "    <tr>\n",
       "      <th>FSA</th>\n",
       "      <th></th>\n",
       "      <th></th>\n",
       "    </tr>\n",
       "  </thead>\n",
       "  <tbody>\n",
       "    <tr>\n",
       "      <th>M1B</th>\n",
       "      <td>516127.0</td>\n",
       "      <td>6.293333</td>\n",
       "    </tr>\n",
       "    <tr>\n",
       "      <th>M1C</th>\n",
       "      <td>945254.0</td>\n",
       "      <td>7.371429</td>\n",
       "    </tr>\n",
       "    <tr>\n",
       "      <th>M1E</th>\n",
       "      <td>619287.0</td>\n",
       "      <td>4.563636</td>\n",
       "    </tr>\n",
       "    <tr>\n",
       "      <th>M1G</th>\n",
       "      <td>655781.0</td>\n",
       "      <td>6.057143</td>\n",
       "    </tr>\n",
       "    <tr>\n",
       "      <th>M1H</th>\n",
       "      <td>497626.0</td>\n",
       "      <td>7.475000</td>\n",
       "    </tr>\n",
       "  </tbody>\n",
       "</table>\n",
       "</div>"
      ],
      "text/plain": [
       "       Prices   RATINGS\n",
       "FSA                    \n",
       "M1B  516127.0  6.293333\n",
       "M1C  945254.0  7.371429\n",
       "M1E  619287.0  4.563636\n",
       "M1G  655781.0  6.057143\n",
       "M1H  497626.0  7.475000"
      ]
     },
     "execution_count": 5,
     "metadata": {},
     "output_type": "execute_result"
    }
   ],
   "source": [
    "# Combine Data Frames on FSA\n",
    "combined_FSA_df = pd.merge(home_sales_fsa,Schoolt_fsa, on='FSA')\n",
    "combined_FSA_df.rename(columns={'Price ($)':'Prices'}, inplace=True)\n",
    "combined_FSA_df.head()"
   ]
  },
  {
   "cell_type": "code",
   "execution_count": 6,
   "metadata": {},
   "outputs": [],
   "source": [
    "#Create Data points for Scatterplot\n",
    "x_axis= combined_FSA_df['RATINGS'].tolist()\n",
    "x_axis= list(map(float, x_axis))\n",
    "\n",
    "y_axis= combined_FSA_df['Prices'].tolist()\n",
    "y_axis= list(map(float, y_axis))\n"
   ]
  },
  {
   "cell_type": "code",
   "execution_count": 10,
   "metadata": {
    "scrolled": true
   },
   "outputs": [
    {
     "data": {
      "image/png": "[encoded data removed]",
      "text/plain": [
       "<Figure size 432x288 with 1 Axes>"
      ]
     },
     "metadata": {
      "needs_background": "light"
     },
     "output_type": "display_data"
    }
   ],
   "source": [
    "#Build Scatterplot graph\n",
    "#fig = plt.figure() # Create matplotlib figure\n",
    "plt.scatter(x_axis, y_axis, alpha=0.5,marker=\"o\", facecolors=\"red\", edgecolors=\"black\",)\n",
    "plt.plot(np.unique(x_axis), np.poly1d(np.polyfit(x_axis, y_axis, 1))(np.unique(x_axis)))\n",
    "plt.title(\"Average Housing Prices vs Average Toronto School Ratings\")\n",
    "plt.xlabel(\"Average Toronto School Rating\")\n",
    "plt.ylabel(\"Average Housing Price($)\")\n",
    "plt.tight_layout()\n",
    "\n",
    "plt.savefig('output_data/Graphs/HPvsTS.png')\n",
    "\n",
    "plt.show()"
   ]
  },
  {
   "cell_type": "code",
   "execution_count": null,
   "metadata": {},
   "outputs": [],
   "source": []
  }
 ],
 "metadata": {
  "kernelspec": {
   "display_name": "Python 3",
   "language": "python",
   "name": "python3"
  },
  "language_info": {
   "codemirror_mode": {
    "name": "ipython",
    "version": 3
   },
   "file_extension": ".py",
   "mimetype": "text/x-python",
   "name": "python",
   "nbconvert_exporter": "python",
   "pygments_lexer": "ipython3",
   "version": "3.7.1"
  }
 },
 "nbformat": 4,
 "nbformat_minor": 2
}
